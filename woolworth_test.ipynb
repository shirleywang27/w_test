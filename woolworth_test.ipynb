{
 "cells": [
  {
   "cell_type": "code",
   "execution_count": 1,
   "metadata": {
    "collapsed": true
   },
   "outputs": [],
   "source": [
    "import numpy as np\n",
    "import seaborn as sns\n",
    "import matplotlib.pyplot as plt\n",
    "import pandas as pd"
   ]
  },
  {
   "cell_type": "code",
   "execution_count": 2,
   "metadata": {
    "collapsed": true
   },
   "outputs": [],
   "source": [
    "store = pd.read_csv('stores.csv')"
   ]
  },
  {
   "cell_type": "code",
   "execution_count": 4,
   "metadata": {},
   "outputs": [
    {
     "data": {
      "text/html": [
       "<div>\n",
       "<style>\n",
       "    .dataframe thead tr:only-child th {\n",
       "        text-align: right;\n",
       "    }\n",
       "\n",
       "    .dataframe thead th {\n",
       "        text-align: left;\n",
       "    }\n",
       "\n",
       "    .dataframe tbody tr th {\n",
       "        vertical-align: top;\n",
       "    }\n",
       "</style>\n",
       "<table border=\"1\" class=\"dataframe\">\n",
       "  <thead>\n",
       "    <tr style=\"text-align: right;\">\n",
       "      <th></th>\n",
       "      <th>Store</th>\n",
       "      <th>Date</th>\n",
       "      <th>IsHoliday</th>\n",
       "      <th>Weekly_Sales</th>\n",
       "      <th>Size</th>\n",
       "      <th>Temperature</th>\n",
       "      <th>Fuel_Price</th>\n",
       "      <th>Unemployment</th>\n",
       "      <th>CPI</th>\n",
       "      <th>Average_earning</th>\n",
       "      <th>Population</th>\n",
       "      <th>Population_over_65</th>\n",
       "      <th>Population_under_18</th>\n",
       "    </tr>\n",
       "  </thead>\n",
       "  <tbody>\n",
       "    <tr>\n",
       "      <th>0</th>\n",
       "      <td>1</td>\n",
       "      <td>12/02/2010</td>\n",
       "      <td>True</td>\n",
       "      <td>1641957.44</td>\n",
       "      <td>151315</td>\n",
       "      <td>3.616667</td>\n",
       "      <td>2.548</td>\n",
       "      <td>8.106</td>\n",
       "      <td>211.242170</td>\n",
       "      <td>63840</td>\n",
       "      <td>18191</td>\n",
       "      <td>4779</td>\n",
       "      <td>2170</td>\n",
       "    </tr>\n",
       "    <tr>\n",
       "      <th>1</th>\n",
       "      <td>1</td>\n",
       "      <td>19/02/2010</td>\n",
       "      <td>False</td>\n",
       "      <td>1611968.17</td>\n",
       "      <td>151315</td>\n",
       "      <td>4.405556</td>\n",
       "      <td>2.514</td>\n",
       "      <td>8.106</td>\n",
       "      <td>211.289143</td>\n",
       "      <td>63909</td>\n",
       "      <td>18086</td>\n",
       "      <td>4719</td>\n",
       "      <td>2190</td>\n",
       "    </tr>\n",
       "    <tr>\n",
       "      <th>2</th>\n",
       "      <td>1</td>\n",
       "      <td>26/02/2010</td>\n",
       "      <td>False</td>\n",
       "      <td>1409727.59</td>\n",
       "      <td>151315</td>\n",
       "      <td>8.127778</td>\n",
       "      <td>2.561</td>\n",
       "      <td>8.106</td>\n",
       "      <td>211.319643</td>\n",
       "      <td>63897</td>\n",
       "      <td>18153</td>\n",
       "      <td>4762</td>\n",
       "      <td>2169</td>\n",
       "    </tr>\n",
       "    <tr>\n",
       "      <th>3</th>\n",
       "      <td>1</td>\n",
       "      <td>12/03/2010</td>\n",
       "      <td>False</td>\n",
       "      <td>1439541.59</td>\n",
       "      <td>151315</td>\n",
       "      <td>14.327778</td>\n",
       "      <td>2.667</td>\n",
       "      <td>8.106</td>\n",
       "      <td>211.380643</td>\n",
       "      <td>63465</td>\n",
       "      <td>18308</td>\n",
       "      <td>4695</td>\n",
       "      <td>2181</td>\n",
       "    </tr>\n",
       "    <tr>\n",
       "      <th>4</th>\n",
       "      <td>1</td>\n",
       "      <td>19/03/2010</td>\n",
       "      <td>False</td>\n",
       "      <td>1472515.79</td>\n",
       "      <td>151315</td>\n",
       "      <td>12.544444</td>\n",
       "      <td>2.720</td>\n",
       "      <td>8.106</td>\n",
       "      <td>211.215635</td>\n",
       "      <td>63808</td>\n",
       "      <td>18299</td>\n",
       "      <td>4707</td>\n",
       "      <td>2182</td>\n",
       "    </tr>\n",
       "  </tbody>\n",
       "</table>\n",
       "</div>"
      ],
      "text/plain": [
       "   Store        Date  IsHoliday  Weekly_Sales    Size  Temperature  \\\n",
       "0      1  12/02/2010       True    1641957.44  151315     3.616667   \n",
       "1      1  19/02/2010      False    1611968.17  151315     4.405556   \n",
       "2      1  26/02/2010      False    1409727.59  151315     8.127778   \n",
       "3      1  12/03/2010      False    1439541.59  151315    14.327778   \n",
       "4      1  19/03/2010      False    1472515.79  151315    12.544444   \n",
       "\n",
       "   Fuel_Price  Unemployment         CPI  Average_earning  Population  \\\n",
       "0       2.548         8.106  211.242170            63840       18191   \n",
       "1       2.514         8.106  211.289143            63909       18086   \n",
       "2       2.561         8.106  211.319643            63897       18153   \n",
       "3       2.667         8.106  211.380643            63465       18308   \n",
       "4       2.720         8.106  211.215635            63808       18299   \n",
       "\n",
       "   Population_over_65  Population_under_18  \n",
       "0                4779                 2170  \n",
       "1                4719                 2190  \n",
       "2                4762                 2169  \n",
       "3                4695                 2181  \n",
       "4                4707                 2182  "
      ]
     },
     "execution_count": 4,
     "metadata": {},
     "output_type": "execute_result"
    }
   ],
   "source": [
    "store.head()"
   ]
  },
  {
   "cell_type": "code",
   "execution_count": 6,
   "metadata": {},
   "outputs": [
    {
     "data": {
      "text/plain": [
       "Store                  False\n",
       "Date                   False\n",
       "IsHoliday              False\n",
       "Weekly_Sales           False\n",
       "Size                   False\n",
       "Temperature            False\n",
       "Fuel_Price             False\n",
       "Unemployment           False\n",
       "CPI                    False\n",
       "Average_earning        False\n",
       "Population             False\n",
       "Population_over_65     False\n",
       "Population_under_18    False\n",
       "dtype: bool"
      ]
     },
     "execution_count": 6,
     "metadata": {},
     "output_type": "execute_result"
    }
   ],
   "source": [
    "store.isnull().any()"
   ]
  },
  {
   "cell_type": "code",
   "execution_count": 8,
   "metadata": {},
   "outputs": [
    {
     "name": "stdout",
     "output_type": "stream",
     "text": [
      "<class 'pandas.core.frame.DataFrame'>\n",
      "RangeIndex: 4545 entries, 0 to 4544\n",
      "Data columns (total 13 columns):\n",
      "Store                  4545 non-null int64\n",
      "Date                   4545 non-null object\n",
      "IsHoliday              4545 non-null bool\n",
      "Weekly_Sales           4545 non-null float64\n",
      "Size                   4545 non-null int64\n",
      "Temperature            4545 non-null float64\n",
      "Fuel_Price             4545 non-null float64\n",
      "Unemployment           4545 non-null float64\n",
      "CPI                    4545 non-null float64\n",
      "Average_earning        4545 non-null int64\n",
      "Population             4545 non-null int64\n",
      "Population_over_65     4545 non-null int64\n",
      "Population_under_18    4545 non-null int64\n",
      "dtypes: bool(1), float64(5), int64(6), object(1)\n",
      "memory usage: 430.6+ KB\n"
     ]
    }
   ],
   "source": [
    "store.info()"
   ]
  },
  {
   "cell_type": "code",
   "execution_count": 35,
   "metadata": {},
   "outputs": [],
   "source": [
    "y = store['Weekly_Sales']\n",
    "X = store.copy()\n",
    "del X['Weekly_Sales']\n",
    "del X['Date']\n",
    "del X['Store']"
   ]
  },
  {
   "cell_type": "code",
   "execution_count": 42,
   "metadata": {},
   "outputs": [
    {
     "data": {
      "text/html": [
       "<div>\n",
       "<style>\n",
       "    .dataframe thead tr:only-child th {\n",
       "        text-align: right;\n",
       "    }\n",
       "\n",
       "    .dataframe thead th {\n",
       "        text-align: left;\n",
       "    }\n",
       "\n",
       "    .dataframe tbody tr th {\n",
       "        vertical-align: top;\n",
       "    }\n",
       "</style>\n",
       "<table border=\"1\" class=\"dataframe\">\n",
       "  <thead>\n",
       "    <tr style=\"text-align: right;\">\n",
       "      <th></th>\n",
       "      <th>IsHoliday</th>\n",
       "      <th>Size</th>\n",
       "      <th>Temperature</th>\n",
       "      <th>Fuel_Price</th>\n",
       "      <th>Unemployment</th>\n",
       "      <th>CPI</th>\n",
       "      <th>Average_earning</th>\n",
       "      <th>Population</th>\n",
       "      <th>Population_over_65</th>\n",
       "      <th>Population_under_18</th>\n",
       "    </tr>\n",
       "  </thead>\n",
       "  <tbody>\n",
       "    <tr>\n",
       "      <th>0</th>\n",
       "      <td>True</td>\n",
       "      <td>151315</td>\n",
       "      <td>3.616667</td>\n",
       "      <td>2.548</td>\n",
       "      <td>8.106</td>\n",
       "      <td>211.242170</td>\n",
       "      <td>63840</td>\n",
       "      <td>18191</td>\n",
       "      <td>4779</td>\n",
       "      <td>2170</td>\n",
       "    </tr>\n",
       "    <tr>\n",
       "      <th>1</th>\n",
       "      <td>False</td>\n",
       "      <td>151315</td>\n",
       "      <td>4.405556</td>\n",
       "      <td>2.514</td>\n",
       "      <td>8.106</td>\n",
       "      <td>211.289143</td>\n",
       "      <td>63909</td>\n",
       "      <td>18086</td>\n",
       "      <td>4719</td>\n",
       "      <td>2190</td>\n",
       "    </tr>\n",
       "    <tr>\n",
       "      <th>2</th>\n",
       "      <td>False</td>\n",
       "      <td>151315</td>\n",
       "      <td>8.127778</td>\n",
       "      <td>2.561</td>\n",
       "      <td>8.106</td>\n",
       "      <td>211.319643</td>\n",
       "      <td>63897</td>\n",
       "      <td>18153</td>\n",
       "      <td>4762</td>\n",
       "      <td>2169</td>\n",
       "    </tr>\n",
       "    <tr>\n",
       "      <th>3</th>\n",
       "      <td>False</td>\n",
       "      <td>151315</td>\n",
       "      <td>14.327778</td>\n",
       "      <td>2.667</td>\n",
       "      <td>8.106</td>\n",
       "      <td>211.380643</td>\n",
       "      <td>63465</td>\n",
       "      <td>18308</td>\n",
       "      <td>4695</td>\n",
       "      <td>2181</td>\n",
       "    </tr>\n",
       "    <tr>\n",
       "      <th>4</th>\n",
       "      <td>False</td>\n",
       "      <td>151315</td>\n",
       "      <td>12.544444</td>\n",
       "      <td>2.720</td>\n",
       "      <td>8.106</td>\n",
       "      <td>211.215635</td>\n",
       "      <td>63808</td>\n",
       "      <td>18299</td>\n",
       "      <td>4707</td>\n",
       "      <td>2182</td>\n",
       "    </tr>\n",
       "  </tbody>\n",
       "</table>\n",
       "</div>"
      ],
      "text/plain": [
       "   IsHoliday    Size  Temperature  Fuel_Price  Unemployment         CPI  \\\n",
       "0       True  151315     3.616667       2.548         8.106  211.242170   \n",
       "1      False  151315     4.405556       2.514         8.106  211.289143   \n",
       "2      False  151315     8.127778       2.561         8.106  211.319643   \n",
       "3      False  151315    14.327778       2.667         8.106  211.380643   \n",
       "4      False  151315    12.544444       2.720         8.106  211.215635   \n",
       "\n",
       "   Average_earning  Population  Population_over_65  Population_under_18  \n",
       "0            63840       18191                4779                 2170  \n",
       "1            63909       18086                4719                 2190  \n",
       "2            63897       18153                4762                 2169  \n",
       "3            63465       18308                4695                 2181  \n",
       "4            63808       18299                4707                 2182  "
      ]
     },
     "execution_count": 42,
     "metadata": {},
     "output_type": "execute_result"
    }
   ],
   "source": [
    "X.head()"
   ]
  },
  {
   "cell_type": "code",
   "execution_count": 63,
   "metadata": {
    "collapsed": true
   },
   "outputs": [],
   "source": [
    "std_scaler = sklearn.preprocessing.StandardScaler()\n",
    "X_std = std_scaler.fit_transform(X)"
   ]
  },
  {
   "cell_type": "code",
   "execution_count": 64,
   "metadata": {
    "collapsed": true
   },
   "outputs": [],
   "source": [
    "import sklearn.model_selection\n",
    "(X_train, X_test, y_train, y_test) = sklearn.model_selection.train_test_split (X_std, y, \n",
    "                                                                               train_size=0.7, random_state=8)"
   ]
  },
  {
   "cell_type": "markdown",
   "metadata": {},
   "source": [
    "## Try Huber "
   ]
  },
  {
   "cell_type": "code",
   "execution_count": 65,
   "metadata": {},
   "outputs": [
    {
     "data": {
      "text/plain": [
       "0.86710326146984651"
      ]
     },
     "execution_count": 65,
     "metadata": {},
     "output_type": "execute_result"
    }
   ],
   "source": [
    "import sklearn.linear_model\n",
    "huber = sklearn.linear_model.HuberRegressor()\n",
    "huber.fit(X_train, y_train)\n",
    "prediction = huber.predict(X_test)\n",
    "huber.score(X_test,y_test)"
   ]
  },
  {
   "cell_type": "code",
   "execution_count": 66,
   "metadata": {},
   "outputs": [
    {
     "data": {
      "text/plain": [
       "array([ 0.83498132,  0.8793269 ,  0.5454591 ,  0.78608263,  0.79139617,\n",
       "        0.78571181,  0.89797302,  0.82638635,  0.86491056,  0.8304601 ])"
      ]
     },
     "execution_count": 66,
     "metadata": {},
     "output_type": "execute_result"
    }
   ],
   "source": [
    "sklearn.model_selection.cross_val_score(huber, X_std, y, cv = 10)"
   ]
  },
  {
   "cell_type": "code",
   "execution_count": 69,
   "metadata": {},
   "outputs": [
    {
     "data": {
      "text/plain": [
       "0.80426879680475649"
      ]
     },
     "execution_count": 69,
     "metadata": {},
     "output_type": "execute_result"
    }
   ],
   "source": [
    "np.mean(sklearn.model_selection.cross_val_score(huber, X_std, y, cv = 10))"
   ]
  },
  {
   "cell_type": "code",
   "execution_count": 106,
   "metadata": {},
   "outputs": [
    {
     "data": {
      "text/html": [
       "<div>\n",
       "<style>\n",
       "    .dataframe thead tr:only-child th {\n",
       "        text-align: right;\n",
       "    }\n",
       "\n",
       "    .dataframe thead th {\n",
       "        text-align: left;\n",
       "    }\n",
       "\n",
       "    .dataframe tbody tr th {\n",
       "        vertical-align: top;\n",
       "    }\n",
       "</style>\n",
       "<table border=\"1\" class=\"dataframe\">\n",
       "  <thead>\n",
       "    <tr style=\"text-align: right;\">\n",
       "      <th></th>\n",
       "      <th>abs_coef</th>\n",
       "      <th>coef</th>\n",
       "      <th>variable</th>\n",
       "    </tr>\n",
       "  </thead>\n",
       "  <tbody>\n",
       "    <tr>\n",
       "      <th>7</th>\n",
       "      <td>359671.303892</td>\n",
       "      <td>359671.303892</td>\n",
       "      <td>Population</td>\n",
       "    </tr>\n",
       "    <tr>\n",
       "      <th>1</th>\n",
       "      <td>97469.448391</td>\n",
       "      <td>97469.448391</td>\n",
       "      <td>Size</td>\n",
       "    </tr>\n",
       "    <tr>\n",
       "      <th>9</th>\n",
       "      <td>64892.106555</td>\n",
       "      <td>64892.106555</td>\n",
       "      <td>Population_under_18</td>\n",
       "    </tr>\n",
       "    <tr>\n",
       "      <th>5</th>\n",
       "      <td>26146.590052</td>\n",
       "      <td>-26146.590052</td>\n",
       "      <td>CPI</td>\n",
       "    </tr>\n",
       "    <tr>\n",
       "      <th>4</th>\n",
       "      <td>16583.326830</td>\n",
       "      <td>-16583.326830</td>\n",
       "      <td>Unemployment</td>\n",
       "    </tr>\n",
       "    <tr>\n",
       "      <th>0</th>\n",
       "      <td>13311.684233</td>\n",
       "      <td>13311.684233</td>\n",
       "      <td>IsHoliday</td>\n",
       "    </tr>\n",
       "    <tr>\n",
       "      <th>6</th>\n",
       "      <td>11051.700871</td>\n",
       "      <td>11051.700871</td>\n",
       "      <td>Average_earning</td>\n",
       "    </tr>\n",
       "    <tr>\n",
       "      <th>8</th>\n",
       "      <td>7941.643378</td>\n",
       "      <td>7941.643378</td>\n",
       "      <td>Population_over_65</td>\n",
       "    </tr>\n",
       "    <tr>\n",
       "      <th>2</th>\n",
       "      <td>3175.626435</td>\n",
       "      <td>3175.626435</td>\n",
       "      <td>Temperature</td>\n",
       "    </tr>\n",
       "    <tr>\n",
       "      <th>3</th>\n",
       "      <td>1419.816152</td>\n",
       "      <td>1419.816152</td>\n",
       "      <td>Fuel_Price</td>\n",
       "    </tr>\n",
       "  </tbody>\n",
       "</table>\n",
       "</div>"
      ],
      "text/plain": [
       "        abs_coef           coef             variable\n",
       "7  359671.303892  359671.303892           Population\n",
       "1   97469.448391   97469.448391                 Size\n",
       "9   64892.106555   64892.106555  Population_under_18\n",
       "5   26146.590052  -26146.590052                  CPI\n",
       "4   16583.326830  -16583.326830         Unemployment\n",
       "0   13311.684233   13311.684233            IsHoliday\n",
       "6   11051.700871   11051.700871      Average_earning\n",
       "8    7941.643378    7941.643378   Population_over_65\n",
       "2    3175.626435    3175.626435          Temperature\n",
       "3    1419.816152    1419.816152           Fuel_Price"
      ]
     },
     "execution_count": 106,
     "metadata": {},
     "output_type": "execute_result"
    }
   ],
   "source": [
    "huber_coefs = pd.DataFrame({'variable':X.columns, 'coef':huber.coef_, 'abs_coef':np.abs(huber.coef_)})\n",
    "huber_coefs.sort_values('abs_coef', inplace=True, ascending=False)\n",
    "huber_coefs"
   ]
  },
  {
   "cell_type": "markdown",
   "metadata": {},
   "source": [
    "## Try Ridge"
   ]
  },
  {
   "cell_type": "code",
   "execution_count": 107,
   "metadata": {
    "collapsed": true
   },
   "outputs": [],
   "source": [
    "ridge_alphas = np.logspace(0, 5, 200)"
   ]
  },
  {
   "cell_type": "code",
   "execution_count": 118,
   "metadata": {},
   "outputs": [
    {
     "data": {
      "text/plain": [
       "RidgeCV(alphas=array([  1.00000e+00,   1.05956e+00, ...,   9.43788e+04,   1.00000e+05]),\n",
       "    cv=10, fit_intercept=True, gcv_mode=None, normalize=False,\n",
       "    scoring=None, store_cv_values=False)"
      ]
     },
     "execution_count": 118,
     "metadata": {},
     "output_type": "execute_result"
    }
   ],
   "source": [
    "optimal_ridge = sklearn.linear_model.RidgeCV(alphas=ridge_alphas, cv=10)\n",
    "optimal_ridge.fit(X_std, y)"
   ]
  },
  {
   "cell_type": "code",
   "execution_count": 119,
   "metadata": {},
   "outputs": [
    {
     "name": "stdout",
     "output_type": "stream",
     "text": [
      "204.907468982\n",
      "1041361.12476\n"
     ]
    }
   ],
   "source": [
    "print optimal_ridge.alpha_\n",
    "print optimal_ridge.intercept_"
   ]
  },
  {
   "cell_type": "code",
   "execution_count": 120,
   "metadata": {},
   "outputs": [
    {
     "name": "stdout",
     "output_type": "stream",
     "text": [
      "[ 0.83554436  0.87105612  0.57649641  0.80596189  0.80215809  0.79236993\n",
      "  0.89356561  0.81511962  0.84713349  0.8342511 ]\n",
      "0.807365662169\n"
     ]
    }
   ],
   "source": [
    "ridge = sklearn.linear_model.Ridge(alpha=optimal_ridge.alpha_)\n",
    "ridge_scores = sklearn.model_selection.cross_val_score(ridge, X_std, y,\n",
    "                                                      cv = 10)\n",
    "print ridge_scores\n",
    "print np.mean(ridge_scores)"
   ]
  },
  {
   "cell_type": "code",
   "execution_count": 121,
   "metadata": {},
   "outputs": [
    {
     "name": "stdout",
     "output_type": "stream",
     "text": [
      "1041361.12476\n"
     ]
    },
    {
     "data": {
      "text/html": [
       "<div>\n",
       "<style>\n",
       "    .dataframe thead tr:only-child th {\n",
       "        text-align: right;\n",
       "    }\n",
       "\n",
       "    .dataframe thead th {\n",
       "        text-align: left;\n",
       "    }\n",
       "\n",
       "    .dataframe tbody tr th {\n",
       "        vertical-align: top;\n",
       "    }\n",
       "</style>\n",
       "<table border=\"1\" class=\"dataframe\">\n",
       "  <thead>\n",
       "    <tr style=\"text-align: right;\">\n",
       "      <th></th>\n",
       "      <th>abs_coef</th>\n",
       "      <th>coef</th>\n",
       "      <th>variable</th>\n",
       "    </tr>\n",
       "  </thead>\n",
       "  <tbody>\n",
       "    <tr>\n",
       "      <th>7</th>\n",
       "      <td>213721.059034</td>\n",
       "      <td>213721.059034</td>\n",
       "      <td>Population</td>\n",
       "    </tr>\n",
       "    <tr>\n",
       "      <th>8</th>\n",
       "      <td>130598.845260</td>\n",
       "      <td>130598.845260</td>\n",
       "      <td>Population_over_65</td>\n",
       "    </tr>\n",
       "    <tr>\n",
       "      <th>9</th>\n",
       "      <td>100679.833840</td>\n",
       "      <td>100679.833840</td>\n",
       "      <td>Population_under_18</td>\n",
       "    </tr>\n",
       "    <tr>\n",
       "      <th>1</th>\n",
       "      <td>97546.437088</td>\n",
       "      <td>97546.437088</td>\n",
       "      <td>Size</td>\n",
       "    </tr>\n",
       "    <tr>\n",
       "      <th>0</th>\n",
       "      <td>22624.350020</td>\n",
       "      <td>22624.350020</td>\n",
       "      <td>IsHoliday</td>\n",
       "    </tr>\n",
       "    <tr>\n",
       "      <th>5</th>\n",
       "      <td>19636.487642</td>\n",
       "      <td>-19636.487642</td>\n",
       "      <td>CPI</td>\n",
       "    </tr>\n",
       "    <tr>\n",
       "      <th>2</th>\n",
       "      <td>17145.320030</td>\n",
       "      <td>-17145.320030</td>\n",
       "      <td>Temperature</td>\n",
       "    </tr>\n",
       "    <tr>\n",
       "      <th>6</th>\n",
       "      <td>10067.380092</td>\n",
       "      <td>10067.380092</td>\n",
       "      <td>Average_earning</td>\n",
       "    </tr>\n",
       "    <tr>\n",
       "      <th>4</th>\n",
       "      <td>9627.343866</td>\n",
       "      <td>-9627.343866</td>\n",
       "      <td>Unemployment</td>\n",
       "    </tr>\n",
       "    <tr>\n",
       "      <th>3</th>\n",
       "      <td>4023.916577</td>\n",
       "      <td>-4023.916577</td>\n",
       "      <td>Fuel_Price</td>\n",
       "    </tr>\n",
       "  </tbody>\n",
       "</table>\n",
       "</div>"
      ],
      "text/plain": [
       "        abs_coef           coef             variable\n",
       "7  213721.059034  213721.059034           Population\n",
       "8  130598.845260  130598.845260   Population_over_65\n",
       "9  100679.833840  100679.833840  Population_under_18\n",
       "1   97546.437088   97546.437088                 Size\n",
       "0   22624.350020   22624.350020            IsHoliday\n",
       "5   19636.487642  -19636.487642                  CPI\n",
       "2   17145.320030  -17145.320030          Temperature\n",
       "6   10067.380092   10067.380092      Average_earning\n",
       "4    9627.343866   -9627.343866         Unemployment\n",
       "3    4023.916577   -4023.916577           Fuel_Price"
      ]
     },
     "execution_count": 121,
     "metadata": {},
     "output_type": "execute_result"
    }
   ],
   "source": [
    "ridge.fit(X_std, y)\n",
    "print enet.intercept_\n",
    "ridge_coefs = pd.DataFrame({'variable':X.columns, 'coef':ridge.coef_, 'abs_coef':np.abs(ridge.coef_)})\n",
    "ridge_coefs.sort_values('abs_coef', inplace=True, ascending=False)\n",
    "ridge_coefs"
   ]
  },
  {
   "cell_type": "markdown",
   "metadata": {},
   "source": [
    "## Try Elastic"
   ]
  },
  {
   "cell_type": "code",
   "execution_count": 100,
   "metadata": {
    "collapsed": true
   },
   "outputs": [],
   "source": [
    "l1_ratios = np.linspace(0.01, 1.0, 50)"
   ]
  },
  {
   "cell_type": "code",
   "execution_count": 101,
   "metadata": {
    "collapsed": true
   },
   "outputs": [],
   "source": [
    "optimal_enet = sklearn.linear_model.ElasticNetCV(l1_ratio=l1_ratios, \n",
    "                                                 n_alphas=100, cv=10)"
   ]
  },
  {
   "cell_type": "code",
   "execution_count": 102,
   "metadata": {},
   "outputs": [
    {
     "data": {
      "text/plain": [
       "ElasticNetCV(alphas=None, copy_X=True, cv=10, eps=0.001, fit_intercept=True,\n",
       "       l1_ratio=array([ 0.01   ,  0.0302 ,  0.05041,  0.07061,  0.09082,  0.11102,\n",
       "        0.13122,  0.15143,  0.17163,  0.19184,  0.21204,  0.23224,\n",
       "        0.25245,  0.27265,  0.29286,  0.31306,  0.33327,  0.35347,\n",
       "        0.37367,  0.39388,  0.41408,  0.43429,  0.45449,  0.47469,\n",
       "        0.4949 ,  0.515...3837,\n",
       "        0.85857,  0.87878,  0.89898,  0.91918,  0.93939,  0.95959,\n",
       "        0.9798 ,  1.     ]),\n",
       "       max_iter=1000, n_alphas=100, n_jobs=1, normalize=False,\n",
       "       positive=False, precompute='auto', random_state=None,\n",
       "       selection='cyclic', tol=0.0001, verbose=0)"
      ]
     },
     "execution_count": 102,
     "metadata": {},
     "output_type": "execute_result"
    }
   ],
   "source": [
    "optimal_enet.fit(X_std,y)"
   ]
  },
  {
   "cell_type": "code",
   "execution_count": 103,
   "metadata": {},
   "outputs": [
    {
     "name": "stdout",
     "output_type": "stream",
     "text": [
      "10599.6837586\n",
      "1.0\n"
     ]
    }
   ],
   "source": [
    "print optimal_enet.alpha_\n",
    "print optimal_enet.l1_ratio_"
   ]
  },
  {
   "cell_type": "code",
   "execution_count": 104,
   "metadata": {},
   "outputs": [
    {
     "name": "stdout",
     "output_type": "stream",
     "text": [
      "[ 0.86199891  0.88493509  0.5769535   0.76786212  0.80147866  0.79353209\n",
      "  0.88762845  0.82531839  0.86955148  0.78880846]\n",
      "0.805806716334\n"
     ]
    }
   ],
   "source": [
    "enet = sklearn.linear_model.ElasticNet(alpha=optimal_enet.alpha_, l1_ratio=optimal_enet.l1_ratio_)\n",
    "enet_scores = sklearn.model_selection.cross_val_score(enet, X_std, y, cv=10)\n",
    "print enet_scores\n",
    "print np.mean(enet_scores)"
   ]
  },
  {
   "cell_type": "code",
   "execution_count": 105,
   "metadata": {},
   "outputs": [
    {
     "name": "stdout",
     "output_type": "stream",
     "text": [
      "1041361.12476\n"
     ]
    },
    {
     "data": {
      "text/html": [
       "<div>\n",
       "<style>\n",
       "    .dataframe thead tr:only-child th {\n",
       "        text-align: right;\n",
       "    }\n",
       "\n",
       "    .dataframe thead th {\n",
       "        text-align: left;\n",
       "    }\n",
       "\n",
       "    .dataframe tbody tr th {\n",
       "        vertical-align: top;\n",
       "    }\n",
       "</style>\n",
       "<table border=\"1\" class=\"dataframe\">\n",
       "  <thead>\n",
       "    <tr style=\"text-align: right;\">\n",
       "      <th></th>\n",
       "      <th>abs_coef</th>\n",
       "      <th>coef</th>\n",
       "      <th>variable</th>\n",
       "    </tr>\n",
       "  </thead>\n",
       "  <tbody>\n",
       "    <tr>\n",
       "      <th>7</th>\n",
       "      <td>407161.568774</td>\n",
       "      <td>407161.568774</td>\n",
       "      <td>Population</td>\n",
       "    </tr>\n",
       "    <tr>\n",
       "      <th>1</th>\n",
       "      <td>81586.027552</td>\n",
       "      <td>81586.027552</td>\n",
       "      <td>Size</td>\n",
       "    </tr>\n",
       "    <tr>\n",
       "      <th>9</th>\n",
       "      <td>46186.519484</td>\n",
       "      <td>46186.519484</td>\n",
       "      <td>Population_under_18</td>\n",
       "    </tr>\n",
       "    <tr>\n",
       "      <th>2</th>\n",
       "      <td>14977.832676</td>\n",
       "      <td>-14977.832676</td>\n",
       "      <td>Temperature</td>\n",
       "    </tr>\n",
       "    <tr>\n",
       "      <th>0</th>\n",
       "      <td>14138.808741</td>\n",
       "      <td>14138.808741</td>\n",
       "      <td>IsHoliday</td>\n",
       "    </tr>\n",
       "    <tr>\n",
       "      <th>5</th>\n",
       "      <td>9252.911388</td>\n",
       "      <td>-9252.911388</td>\n",
       "      <td>CPI</td>\n",
       "    </tr>\n",
       "    <tr>\n",
       "      <th>3</th>\n",
       "      <td>0.000000</td>\n",
       "      <td>-0.000000</td>\n",
       "      <td>Fuel_Price</td>\n",
       "    </tr>\n",
       "    <tr>\n",
       "      <th>4</th>\n",
       "      <td>0.000000</td>\n",
       "      <td>-0.000000</td>\n",
       "      <td>Unemployment</td>\n",
       "    </tr>\n",
       "    <tr>\n",
       "      <th>6</th>\n",
       "      <td>0.000000</td>\n",
       "      <td>0.000000</td>\n",
       "      <td>Average_earning</td>\n",
       "    </tr>\n",
       "    <tr>\n",
       "      <th>8</th>\n",
       "      <td>0.000000</td>\n",
       "      <td>0.000000</td>\n",
       "      <td>Population_over_65</td>\n",
       "    </tr>\n",
       "  </tbody>\n",
       "</table>\n",
       "</div>"
      ],
      "text/plain": [
       "        abs_coef           coef             variable\n",
       "7  407161.568774  407161.568774           Population\n",
       "1   81586.027552   81586.027552                 Size\n",
       "9   46186.519484   46186.519484  Population_under_18\n",
       "2   14977.832676  -14977.832676          Temperature\n",
       "0   14138.808741   14138.808741            IsHoliday\n",
       "5    9252.911388   -9252.911388                  CPI\n",
       "3       0.000000      -0.000000           Fuel_Price\n",
       "4       0.000000      -0.000000         Unemployment\n",
       "6       0.000000       0.000000      Average_earning\n",
       "8       0.000000       0.000000   Population_over_65"
      ]
     },
     "execution_count": 105,
     "metadata": {},
     "output_type": "execute_result"
    }
   ],
   "source": [
    "enet.fit(X_std, y)\n",
    "print enet.intercept_\n",
    "enet_coefs = pd.DataFrame({'variable':X.columns, 'coef':enet.coef_, 'abs_coef':np.abs(enet.coef_)})\n",
    "enet_coefs.sort_values('abs_coef', inplace=True, ascending=False)\n",
    "enet_coefs"
   ]
  },
  {
   "cell_type": "code",
   "execution_count": null,
   "metadata": {
    "collapsed": true
   },
   "outputs": [],
   "source": []
  }
 ],
 "metadata": {
  "kernelspec": {
   "display_name": "Python 2",
   "language": "python",
   "name": "python2"
  },
  "language_info": {
   "codemirror_mode": {
    "name": "ipython",
    "version": 2
   },
   "file_extension": ".py",
   "mimetype": "text/x-python",
   "name": "python",
   "nbconvert_exporter": "python",
   "pygments_lexer": "ipython2",
   "version": "2.7.13"
  }
 },
 "nbformat": 4,
 "nbformat_minor": 2
}
